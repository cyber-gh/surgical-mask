{
 "cells": [
  {
   "cell_type": "code",
   "execution_count": 1,
   "metadata": {
    "pycharm": {
     "name": "#%%\n"
    }
   },
   "outputs": [
    {
     "name": "stderr",
     "output_type": "stream",
     "text": [
      "Using TensorFlow backend.\n"
     ]
    }
   ],
   "source": [
    "from glob import glob\n",
    "import numpy as np\n",
    "from keras import Sequential\n",
    "from keras.callbacks import EarlyStopping\n",
    "from keras.layers import Dense, Dropout\n",
    "from keras.utils import to_categorical\n",
    "from sklearn.preprocessing import StandardScaler, LabelEncoder\n",
    "data_path = \"/Users/soltan/Programs/kaggle/raw_data/train/train/*\"\n",
    "\n",
    "import librosa\n",
    "\n",
    "def hpss(signal):\n",
    "    signal = librosa.effects.hpss(signal.astype('float64'))\n",
    "    return signal[1]\n",
    "\n",
    "def random_shift(signal):\n",
    "    timeshift_fac = 0.2 *2*(np.random.uniform()-0.5)  # up to 20% of length\n",
    "    start = int(signal.shape[0] * timeshift_fac)\n",
    "    if start > 0:\n",
    "        signal = np.pad(signal,(start,0),mode='constant')[0:signal.shape[0]]\n",
    "    else:\n",
    "        signal = np.pad(signal,(0,-start),mode='constant')[0:signal.shape[0]]\n",
    "    return signal\n",
    "\n",
    "def add_noise(signal):\n",
    "    noise_amp = 0.005*np.random.uniform()*np.amax(signal)\n",
    "    signal = signal.astype('float64') + noise_amp * np.random.normal(size=signal.shape[0])\n",
    "\n",
    "    return signal\n",
    "\n",
    "def change_pitch(signal, sample_rate):\n",
    "    bins_per_octave = 12\n",
    "    pitch_pm = 2\n",
    "    pitch_change =  pitch_pm * 2*(np.random.uniform())\n",
    "    signal = librosa.effects.pitch_shift(signal.astype('float64'),\n",
    "                                          sample_rate, n_steps=pitch_change,\n",
    "                                          bins_per_octave=bins_per_octave)\n",
    "    return signal"
   ]
  },
  {
   "cell_type": "code",
   "execution_count": 2,
   "outputs": [],
   "source": [
    "def extract_features(file_name, apply_add_noise=False, apply_change_pitch=False, apply_hpss=False, apply_random_shift=False):\n",
    "    X, sample_rate = librosa.load(file_name, res_type='kaiser_fast')\n",
    "\n",
    "    if apply_random_shift:\n",
    "        X = random_shift(X)\n",
    "\n",
    "    if apply_hpss:\n",
    "        X = hpss(X)\n",
    "\n",
    "    if change_pitch:\n",
    "        #data augmentation change pitch\n",
    "        X = change_pitch(X, sample_rate)\n",
    "\n",
    "    if add_noise:\n",
    "        # data agumentation, add random noise\n",
    "        X = add_noise(X)\n",
    "\n",
    "    # Generate Mel-frequency cepstral coefficients (MFCCs) from a time series\n",
    "    mfccs = np.mean(librosa.feature.mfcc(y=X, sr=sample_rate, n_mfcc=40).T,axis=0)\n",
    "\n",
    "    # Generates a Short-time Fourier transform (STFT) to use in the chroma_stft\n",
    "    stft = np.abs(librosa.stft(X))\n",
    "\n",
    "    # Computes a chromagram from a waveform or power spectrogram.\n",
    "    chroma = np.mean(librosa.feature.chroma_stft(S=stft, sr=sample_rate).T,axis=0)\n",
    "\n",
    "    # Computes a mel-scaled spectrogram.\n",
    "    mel = np.mean(librosa.feature.melspectrogram(X, sr=sample_rate).T,axis=0)\n",
    "\n",
    "    # Computes spectral contrast\n",
    "    contrast = np.mean(librosa.feature.spectral_contrast(S=stft, sr=sample_rate).T,axis=0)\n",
    "\n",
    "    # Computes the tonal centroid features (tonnetz)\n",
    "    tonnetz = np.mean(librosa.feature.tonnetz(y=librosa.effects.harmonic(X),sr=sample_rate).T,axis=0)\n",
    "\n",
    "    zero_crossing = librosa.feature.zero_crossing_rate(X, pad=False).flatten()\n",
    "\n",
    "    spectral_centroid = librosa.feature.spectral_centroid(X, sr=sample_rate).flatten()\n",
    "\n",
    "    spectral_rolloff = librosa.feature.spectral_rolloff(X, sr=sample_rate).flatten()\n",
    "\n",
    "    rms = librosa.feature.rms(X).flatten()\n",
    "\n",
    "    poly_features = librosa.feature.poly_features(X, sr=sample_rate).flatten()\n",
    "\n",
    "    return np.concatenate([mfccs, chroma, mel, contrast, tonnetz, zero_crossing, spectral_centroid, spectral_rolloff, rms, poly_features])"
   ],
   "metadata": {
    "collapsed": false,
    "pycharm": {
     "name": "#%%\n"
    }
   }
  },
  {
   "cell_type": "code",
   "execution_count": 3,
   "outputs": [
    {
     "name": "stdout",
     "output_type": "stream",
     "text": [
      "(457,)\n"
     ]
    }
   ],
   "source": [
    "features = extract_features(\"../raw_data/train/train/100001-0.wav\")\n",
    "print(features.shape)"
   ],
   "metadata": {
    "collapsed": false,
    "pycharm": {
     "name": "#%%\n"
    }
   }
  },
  {
   "cell_type": "code",
   "execution_count": 4,
   "metadata": {
    "pycharm": {
     "name": "#%%\n"
    }
   },
   "outputs": [
    {
     "name": "stderr",
     "output_type": "stream",
     "text": [
      "  1%|          | 83/9000 [01:37<2:55:21,  1.18s/it]\n"
     ]
    },
    {
     "ename": "KeyboardInterrupt",
     "evalue": "",
     "output_type": "error",
     "traceback": [
      "\u001B[0;31m---------------------------------------------------------------------------\u001B[0m",
      "\u001B[0;31mKeyboardInterrupt\u001B[0m                         Traceback (most recent call last)",
      "\u001B[0;32m<ipython-input-4-74f2a7fcbc00>\u001B[0m in \u001B[0;36m<module>\u001B[0;34m\u001B[0m\n\u001B[1;32m     10\u001B[0m     \u001B[0mlabels\u001B[0m\u001B[0;34m.\u001B[0m\u001B[0mappend\u001B[0m\u001B[0;34m(\u001B[0m\u001B[0mlabel\u001B[0m\u001B[0;34m)\u001B[0m\u001B[0;34m\u001B[0m\u001B[0;34m\u001B[0m\u001B[0m\n\u001B[1;32m     11\u001B[0m \u001B[0;34m\u001B[0m\u001B[0m\n\u001B[0;32m---> 12\u001B[0;31m     \u001B[0mfeatures\u001B[0m\u001B[0;34m.\u001B[0m\u001B[0mappend\u001B[0m\u001B[0;34m(\u001B[0m\u001B[0mextract_features\u001B[0m\u001B[0;34m(\u001B[0m\u001B[0mfile\u001B[0m\u001B[0;34m,\u001B[0m\u001B[0mapply_add_noise\u001B[0m\u001B[0;34m=\u001B[0m\u001B[0;32mTrue\u001B[0m\u001B[0;34m)\u001B[0m\u001B[0;34m)\u001B[0m\u001B[0;34m\u001B[0m\u001B[0;34m\u001B[0m\u001B[0m\n\u001B[0m\u001B[1;32m     13\u001B[0m     \u001B[0mlabels\u001B[0m\u001B[0;34m.\u001B[0m\u001B[0mappend\u001B[0m\u001B[0;34m(\u001B[0m\u001B[0mlabel\u001B[0m\u001B[0;34m)\u001B[0m\u001B[0;34m\u001B[0m\u001B[0;34m\u001B[0m\u001B[0m\n\u001B[1;32m     14\u001B[0m \u001B[0;34m\u001B[0m\u001B[0m\n",
      "\u001B[0;32m<ipython-input-2-797a200c371e>\u001B[0m in \u001B[0;36mextract_features\u001B[0;34m(file_name, apply_add_noise, apply_change_pitch, apply_hpss, apply_random_shift)\u001B[0m\n\u001B[1;32m     32\u001B[0m \u001B[0;34m\u001B[0m\u001B[0m\n\u001B[1;32m     33\u001B[0m     \u001B[0;31m# Computes the tonal centroid features (tonnetz)\u001B[0m\u001B[0;34m\u001B[0m\u001B[0;34m\u001B[0m\u001B[0;34m\u001B[0m\u001B[0m\n\u001B[0;32m---> 34\u001B[0;31m     \u001B[0mtonnetz\u001B[0m \u001B[0;34m=\u001B[0m \u001B[0mnp\u001B[0m\u001B[0;34m.\u001B[0m\u001B[0mmean\u001B[0m\u001B[0;34m(\u001B[0m\u001B[0mlibrosa\u001B[0m\u001B[0;34m.\u001B[0m\u001B[0mfeature\u001B[0m\u001B[0;34m.\u001B[0m\u001B[0mtonnetz\u001B[0m\u001B[0;34m(\u001B[0m\u001B[0my\u001B[0m\u001B[0;34m=\u001B[0m\u001B[0mlibrosa\u001B[0m\u001B[0;34m.\u001B[0m\u001B[0meffects\u001B[0m\u001B[0;34m.\u001B[0m\u001B[0mharmonic\u001B[0m\u001B[0;34m(\u001B[0m\u001B[0mX\u001B[0m\u001B[0;34m)\u001B[0m\u001B[0;34m,\u001B[0m\u001B[0msr\u001B[0m\u001B[0;34m=\u001B[0m\u001B[0msample_rate\u001B[0m\u001B[0;34m)\u001B[0m\u001B[0;34m.\u001B[0m\u001B[0mT\u001B[0m\u001B[0;34m,\u001B[0m\u001B[0maxis\u001B[0m\u001B[0;34m=\u001B[0m\u001B[0;36m0\u001B[0m\u001B[0;34m)\u001B[0m\u001B[0;34m\u001B[0m\u001B[0;34m\u001B[0m\u001B[0m\n\u001B[0m\u001B[1;32m     35\u001B[0m \u001B[0;34m\u001B[0m\u001B[0m\n\u001B[1;32m     36\u001B[0m     \u001B[0mzero_crossing\u001B[0m \u001B[0;34m=\u001B[0m \u001B[0mlibrosa\u001B[0m\u001B[0;34m.\u001B[0m\u001B[0mfeature\u001B[0m\u001B[0;34m.\u001B[0m\u001B[0mzero_crossing_rate\u001B[0m\u001B[0;34m(\u001B[0m\u001B[0mX\u001B[0m\u001B[0;34m,\u001B[0m \u001B[0mpad\u001B[0m\u001B[0;34m=\u001B[0m\u001B[0;32mFalse\u001B[0m\u001B[0;34m)\u001B[0m\u001B[0;34m.\u001B[0m\u001B[0mflatten\u001B[0m\u001B[0;34m(\u001B[0m\u001B[0;34m)\u001B[0m\u001B[0;34m\u001B[0m\u001B[0;34m\u001B[0m\u001B[0m\n",
      "\u001B[0;32m~/.conda/envs/kaggle/lib/python3.7/site-packages/librosa/effects.py\u001B[0m in \u001B[0;36mharmonic\u001B[0;34m(y, **kwargs)\u001B[0m\n\u001B[1;32m    137\u001B[0m \u001B[0;34m\u001B[0m\u001B[0m\n\u001B[1;32m    138\u001B[0m     \u001B[0;31m# Remove percussives\u001B[0m\u001B[0;34m\u001B[0m\u001B[0;34m\u001B[0m\u001B[0;34m\u001B[0m\u001B[0m\n\u001B[0;32m--> 139\u001B[0;31m     \u001B[0mstft_harm\u001B[0m \u001B[0;34m=\u001B[0m \u001B[0mdecompose\u001B[0m\u001B[0;34m.\u001B[0m\u001B[0mhpss\u001B[0m\u001B[0;34m(\u001B[0m\u001B[0mstft\u001B[0m\u001B[0;34m,\u001B[0m \u001B[0;34m**\u001B[0m\u001B[0mkwargs\u001B[0m\u001B[0;34m)\u001B[0m\u001B[0;34m[\u001B[0m\u001B[0;36m0\u001B[0m\u001B[0;34m]\u001B[0m\u001B[0;34m\u001B[0m\u001B[0;34m\u001B[0m\u001B[0m\n\u001B[0m\u001B[1;32m    140\u001B[0m \u001B[0;34m\u001B[0m\u001B[0m\n\u001B[1;32m    141\u001B[0m     \u001B[0;31m# Invert the STFTs\u001B[0m\u001B[0;34m\u001B[0m\u001B[0;34m\u001B[0m\u001B[0;34m\u001B[0m\u001B[0m\n",
      "\u001B[0;32m~/.conda/envs/kaggle/lib/python3.7/site-packages/librosa/decompose.py\u001B[0m in \u001B[0;36mhpss\u001B[0;34m(S, kernel_size, power, mask, margin)\u001B[0m\n\u001B[1;32m    360\u001B[0m \u001B[0;34m\u001B[0m\u001B[0m\n\u001B[1;32m    361\u001B[0m     \u001B[0mperc\u001B[0m \u001B[0;34m=\u001B[0m \u001B[0mnp\u001B[0m\u001B[0;34m.\u001B[0m\u001B[0mempty_like\u001B[0m\u001B[0;34m(\u001B[0m\u001B[0mS\u001B[0m\u001B[0;34m)\u001B[0m\u001B[0;34m\u001B[0m\u001B[0;34m\u001B[0m\u001B[0m\n\u001B[0;32m--> 362\u001B[0;31m     \u001B[0mperc\u001B[0m\u001B[0;34m[\u001B[0m\u001B[0;34m:\u001B[0m\u001B[0;34m]\u001B[0m \u001B[0;34m=\u001B[0m \u001B[0mmedian_filter\u001B[0m\u001B[0;34m(\u001B[0m\u001B[0mS\u001B[0m\u001B[0;34m,\u001B[0m \u001B[0msize\u001B[0m\u001B[0;34m=\u001B[0m\u001B[0;34m(\u001B[0m\u001B[0mwin_perc\u001B[0m\u001B[0;34m,\u001B[0m \u001B[0;36m1\u001B[0m\u001B[0;34m)\u001B[0m\u001B[0;34m,\u001B[0m \u001B[0mmode\u001B[0m\u001B[0;34m=\u001B[0m\u001B[0;34m'reflect'\u001B[0m\u001B[0;34m)\u001B[0m\u001B[0;34m\u001B[0m\u001B[0;34m\u001B[0m\u001B[0m\n\u001B[0m\u001B[1;32m    363\u001B[0m \u001B[0;34m\u001B[0m\u001B[0m\n\u001B[1;32m    364\u001B[0m     \u001B[0msplit_zeros\u001B[0m \u001B[0;34m=\u001B[0m \u001B[0;34m(\u001B[0m\u001B[0mmargin_harm\u001B[0m \u001B[0;34m==\u001B[0m \u001B[0;36m1\u001B[0m \u001B[0;32mand\u001B[0m \u001B[0mmargin_perc\u001B[0m \u001B[0;34m==\u001B[0m \u001B[0;36m1\u001B[0m\u001B[0;34m)\u001B[0m\u001B[0;34m\u001B[0m\u001B[0;34m\u001B[0m\u001B[0m\n",
      "\u001B[0;32m~/.conda/envs/kaggle/lib/python3.7/site-packages/scipy/ndimage/filters.py\u001B[0m in \u001B[0;36mmedian_filter\u001B[0;34m(input, size, footprint, output, mode, cval, origin)\u001B[0m\n\u001B[1;32m   1239\u001B[0m     \"\"\"\n\u001B[1;32m   1240\u001B[0m     return _rank_filter(input, 0, size, footprint, output, mode, cval,\n\u001B[0;32m-> 1241\u001B[0;31m                         origin, 'median')\n\u001B[0m\u001B[1;32m   1242\u001B[0m \u001B[0;34m\u001B[0m\u001B[0m\n\u001B[1;32m   1243\u001B[0m \u001B[0;34m\u001B[0m\u001B[0m\n",
      "\u001B[0;32m~/.conda/envs/kaggle/lib/python3.7/site-packages/scipy/ndimage/filters.py\u001B[0m in \u001B[0;36m_rank_filter\u001B[0;34m(input, rank, size, footprint, output, mode, cval, origin, operation)\u001B[0m\n\u001B[1;32m   1159\u001B[0m         \u001B[0mmode\u001B[0m \u001B[0;34m=\u001B[0m \u001B[0m_ni_support\u001B[0m\u001B[0;34m.\u001B[0m\u001B[0m_extend_mode_to_code\u001B[0m\u001B[0;34m(\u001B[0m\u001B[0mmode\u001B[0m\u001B[0;34m)\u001B[0m\u001B[0;34m\u001B[0m\u001B[0;34m\u001B[0m\u001B[0m\n\u001B[1;32m   1160\u001B[0m         _nd_image.rank_filter(input, rank, footprint, output, mode, cval,\n\u001B[0;32m-> 1161\u001B[0;31m                               origins)\n\u001B[0m\u001B[1;32m   1162\u001B[0m         \u001B[0;32mreturn\u001B[0m \u001B[0moutput\u001B[0m\u001B[0;34m\u001B[0m\u001B[0;34m\u001B[0m\u001B[0m\n\u001B[1;32m   1163\u001B[0m \u001B[0;34m\u001B[0m\u001B[0m\n",
      "\u001B[0;31mKeyboardInterrupt\u001B[0m: "
     ]
    }
   ],
   "source": [
    "from tqdm import tqdm\n",
    "data_dir = np.array(glob(data_path))\n",
    "features, labels = [], []\n",
    "for file in tqdm(data_dir):\n",
    "    file_name = file.split(\"/\")[-1]\n",
    "    file_name = file.split(\".\")[0]\n",
    "    name, label = file_name.split(\"-\")[0], file_name.split(\"-\")[1]\n",
    "\n",
    "    features.append(extract_features(file))\n",
    "    labels.append(label)\n",
    "\n",
    "    features.append(extract_features(file,apply_add_noise=True))\n",
    "    labels.append(label)\n",
    "\n",
    "    features.append(extract_features(file, apply_change_pitch=True))\n",
    "    labels.append(label)\n",
    "\n",
    "    features.append(extract_features(file, apply_add_noise=True, apply_change_pitch=True))\n",
    "    labels.append(label)\n",
    "\n",
    "    features.append(extract_features(file, apply_random_shift=True))\n",
    "    labels.append(label)\n",
    "\n",
    "    features.append(extract_features(file, apply_hpss=True))\n",
    "    labels.append(label)\n"
   ]
  },
  {
   "cell_type": "code",
   "execution_count": null,
   "metadata": {
    "pycharm": {
     "name": "#%%\n"
    }
   },
   "outputs": [],
   "source": [
    "from sklearn.model_selection import train_test_split\n",
    "inputs_train, inputs_test, targets_train, targets_test = train_test_split(features, labels, test_size=0.1)"
   ]
  },
  {
   "cell_type": "code",
   "execution_count": null,
   "metadata": {
    "pycharm": {
     "name": "#%%\n"
    }
   },
   "outputs": [],
   "source": [
    "\n",
    "ss = StandardScaler()\n",
    "X_train = ss.fit_transform(inputs_train)\n",
    "X_val = ss.transform(inputs_test)\n",
    "\n",
    "\n",
    "lb = LabelEncoder()\n",
    "y_train = to_categorical(lb.fit_transform(targets_train))\n",
    "y_val = to_categorical(lb.fit_transform(targets_test))\n"
   ]
  },
  {
   "cell_type": "code",
   "execution_count": null,
   "metadata": {
    "pycharm": {
     "name": "#%%\n"
    }
   },
   "outputs": [],
   "source": [
    "input_shape = X_train[0].shape\n",
    "sz = 457\n",
    "model = Sequential()\n",
    "\n",
    "model.add(Dense(sz, input_shape=input_shape, activation = 'relu'))\n",
    "model.add(Dropout(0.1))\n",
    "\n",
    "model.add(Dense(128, activation = 'relu'))\n",
    "model.add(Dropout(0.25))\n",
    "\n",
    "model.add(Dense(128, activation = 'relu'))\n",
    "model.add(Dropout(0.5))\n",
    "\n",
    "model.add(Dense(2, activation = 'softmax'))\n",
    "\n",
    "model.compile(loss='categorical_crossentropy', metrics=['accuracy'], optimizer='adam')\n",
    "\n",
    "early_stop = EarlyStopping(monitor='val_loss', min_delta=0, patience=10, verbose=1, mode='auto')\n",
    "model.summary()"
   ]
  },
  {
   "cell_type": "code",
   "execution_count": null,
   "metadata": {
    "pycharm": {
     "name": "#%%\n"
    }
   },
   "outputs": [],
   "source": [
    "history = model.fit(X_train, y_train, batch_size=500, epochs=100,\n",
    "                    validation_data=(X_val, y_val),\n",
    "                    callbacks=[early_stop])"
   ]
  },
  {
   "cell_type": "code",
   "execution_count": null,
   "metadata": {
    "pycharm": {
     "name": "#%%\n"
    }
   },
   "outputs": [],
   "source": [
    "test_path = \"/Users/soltan/Programs/kaggle/raw_data/test/test/*\"\n",
    "from tqdm import tqdm\n",
    "test_dir = np.array(glob(test_path))\n",
    "\n",
    "fout = open(\"../submission.txt\", \"w\")\n",
    "fout.write(\"name,label\\n\")\n",
    "for file in tqdm(test_dir):\n",
    "    name = file.split(\"/\")[-1]\n",
    "    ft = extract_features(file)\n",
    "    ft = ss.transform([ft])\n",
    "    pred = model.predict_classes([ft])[0]\n",
    "    fout.write(\"{},{}\\n\".format(name, pred))\n",
    "\n",
    "fout.close()\n",
    "\n"
   ]
  }
 ],
 "metadata": {
  "kernelspec": {
   "display_name": "Python 3",
   "language": "python",
   "name": "python3"
  },
  "language_info": {
   "codemirror_mode": {
    "name": "ipython",
    "version": 3
   },
   "file_extension": ".py",
   "mimetype": "text/x-python",
   "name": "python",
   "nbconvert_exporter": "python",
   "pygments_lexer": "ipython3",
   "version": "3.7.7"
  }
 },
 "nbformat": 4,
 "nbformat_minor": 1
}
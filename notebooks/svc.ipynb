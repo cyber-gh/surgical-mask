{
 "cells": [
  {
   "cell_type": "code",
   "execution_count": 1,
   "metadata": {
    "collapsed": true
   },
   "outputs": [],
   "source": [
    "from glob import glob\n",
    "import numpy as np\n",
    "data_path = \"/Users/soltan/Programs/kaggle/raw_data/train/train/*\"\n",
    "\n",
    "import librosa\n",
    "def extract_features(file_name):\n",
    "    n_fft = 2048\n",
    "    hop_length = 512\n",
    "    signal, sr = librosa.load(file_name, sr=None)\n",
    "    mfcc = librosa.feature.mfcc(signal, n_fft=n_fft, hop_length=hop_length, n_mfcc=13).flatten()\n",
    "    return mfcc"
   ]
  },
  {
   "cell_type": "code",
   "execution_count": 2,
   "outputs": [
    {
     "name": "stderr",
     "output_type": "stream",
     "text": [
      "100%|██████████| 9000/9000 [00:44<00:00, 201.77it/s]\n"
     ]
    }
   ],
   "source": [
    "from tqdm import tqdm\n",
    "data_dir = np.array(glob(data_path))\n",
    "features, labels = [], []\n",
    "for file in tqdm(data_dir):\n",
    "    file_name = file.split(\"/\")[-1]\n",
    "    file_name = file.split(\".\")[0]\n",
    "    name, label = file_name.split(\"-\")[0], file_name.split(\"-\")[1]\n",
    "    features.append(extract_features(file))\n",
    "    labels.append(label)\n",
    "\n"
   ],
   "metadata": {
    "collapsed": false,
    "pycharm": {
     "name": "#%%\n"
    }
   }
  },
  {
   "cell_type": "code",
   "execution_count": 3,
   "outputs": [],
   "source": [
    "from sklearn.model_selection import train_test_split\n",
    "inputs_train, inputs_test, targets_train, targets_test = train_test_split(features, labels, test_size=0.2)"
   ],
   "metadata": {
    "collapsed": false,
    "pycharm": {
     "name": "#%%\n"
    }
   }
  },
  {
   "cell_type": "code",
   "execution_count": 15,
   "outputs": [
    {
     "data": {
      "text/plain": "SVC(C=1.0, break_ties=False, cache_size=200, class_weight=None, coef0=0.0,\n    decision_function_shape='ovr', degree=3, gamma='scale', kernel='rbf',\n    max_iter=-1, probability=False, random_state=None, shrinking=True,\n    tol=0.001, verbose=False)"
     },
     "execution_count": 15,
     "metadata": {},
     "output_type": "execute_result"
    }
   ],
   "source": [
    "from sklearn import svm\n",
    "\n",
    "clf = svm.SVC()\n",
    "clf.fit(inputs_train, targets_train)\n"
   ],
   "metadata": {
    "collapsed": false,
    "pycharm": {
     "name": "#%%\n"
    }
   }
  },
  {
   "cell_type": "code",
   "execution_count": 16,
   "outputs": [
    {
     "name": "stdout",
     "output_type": "stream",
     "text": [
      "Accuracy: 0.6211111111111111\n"
     ]
    }
   ],
   "source": [
    "from sklearn import metrics\n",
    "predictions = clf.predict(inputs_test)\n",
    "print(\"Accuracy:\",metrics.accuracy_score(targets_test, predictions))\n"
   ],
   "metadata": {
    "collapsed": false,
    "pycharm": {
     "name": "#%%\n"
    }
   }
  },
  {
   "cell_type": "code",
   "execution_count": 18,
   "outputs": [
    {
     "name": "stdout",
     "output_type": "stream",
     "text": [
      "Fitting 5 folds for each of 48 candidates, totalling 240 fits\n",
      "[Parallel(n_jobs=8)]: Using backend LokyBackend with 8 concurrent workers.\n",
      "[Parallel(n_jobs=8)]: Done   1 tasks      | elapsed:  2.6min\n",
      "[Parallel(n_jobs=8)]: Done   2 tasks      | elapsed:  2.6min\n",
      "[Parallel(n_jobs=8)]: Done   3 tasks      | elapsed:  2.6min\n",
      "[Parallel(n_jobs=8)]: Done   4 tasks      | elapsed:  2.7min\n",
      "[Parallel(n_jobs=8)]: Done   5 tasks      | elapsed:  2.7min\n",
      "[Parallel(n_jobs=8)]: Done   6 tasks      | elapsed:  3.2min\n",
      "[Parallel(n_jobs=8)]: Done   7 tasks      | elapsed:  3.5min\n",
      "[Parallel(n_jobs=8)]: Done   8 tasks      | elapsed:  3.5min\n",
      "[Parallel(n_jobs=8)]: Done   9 tasks      | elapsed:  5.9min\n",
      "[Parallel(n_jobs=8)]: Done  10 tasks      | elapsed:  5.9min\n",
      "[Parallel(n_jobs=8)]: Done  11 tasks      | elapsed:  5.9min\n",
      "[Parallel(n_jobs=8)]: Done  12 tasks      | elapsed:  6.4min\n",
      "[Parallel(n_jobs=8)]: Done  13 tasks      | elapsed:  6.5min\n",
      "[Parallel(n_jobs=8)]: Done  14 tasks      | elapsed:  6.5min\n",
      "[Parallel(n_jobs=8)]: Done  15 tasks      | elapsed:  6.8min\n",
      "[Parallel(n_jobs=8)]: Done  16 tasks      | elapsed:  7.0min\n",
      "[Parallel(n_jobs=8)]: Done  17 tasks      | elapsed:  9.1min\n",
      "[Parallel(n_jobs=8)]: Done  18 tasks      | elapsed:  9.2min\n",
      "[Parallel(n_jobs=8)]: Done  19 tasks      | elapsed:  9.2min\n",
      "[Parallel(n_jobs=8)]: Done  20 tasks      | elapsed:  9.5min\n",
      "[Parallel(n_jobs=8)]: Done  21 tasks      | elapsed: 10.0min\n",
      "[Parallel(n_jobs=8)]: Done  22 tasks      | elapsed: 10.0min\n",
      "[Parallel(n_jobs=8)]: Done  23 tasks      | elapsed: 10.1min\n",
      "[Parallel(n_jobs=8)]: Done  24 tasks      | elapsed: 10.3min\n",
      "[Parallel(n_jobs=8)]: Done  25 tasks      | elapsed: 11.9min\n",
      "[Parallel(n_jobs=8)]: Done  26 tasks      | elapsed: 12.0min\n",
      "[Parallel(n_jobs=8)]: Done  27 tasks      | elapsed: 12.4min\n",
      "[Parallel(n_jobs=8)]: Done  28 tasks      | elapsed: 12.7min\n",
      "[Parallel(n_jobs=8)]: Done  29 tasks      | elapsed: 12.9min\n",
      "[Parallel(n_jobs=8)]: Done  30 tasks      | elapsed: 13.0min\n",
      "[Parallel(n_jobs=8)]: Done  31 tasks      | elapsed: 13.3min\n",
      "[Parallel(n_jobs=8)]: Done  32 tasks      | elapsed: 13.5min\n",
      "[Parallel(n_jobs=8)]: Done  33 tasks      | elapsed: 15.1min\n",
      "[Parallel(n_jobs=8)]: Done  34 tasks      | elapsed: 15.1min\n",
      "[Parallel(n_jobs=8)]: Done  35 tasks      | elapsed: 15.4min\n",
      "[Parallel(n_jobs=8)]: Done  36 tasks      | elapsed: 16.0min\n",
      "[Parallel(n_jobs=8)]: Done  37 tasks      | elapsed: 16.5min\n",
      "[Parallel(n_jobs=8)]: Done  38 tasks      | elapsed: 16.5min\n",
      "[Parallel(n_jobs=8)]: Done  39 tasks      | elapsed: 16.8min\n",
      "[Parallel(n_jobs=8)]: Done  40 tasks      | elapsed: 17.0min\n",
      "[Parallel(n_jobs=8)]: Done  41 tasks      | elapsed: 17.7min\n",
      "[Parallel(n_jobs=8)]: Done  42 tasks      | elapsed: 17.7min\n",
      "[Parallel(n_jobs=8)]: Done  43 tasks      | elapsed: 18.1min\n",
      "[Parallel(n_jobs=8)]: Done  44 tasks      | elapsed: 18.9min\n",
      "[Parallel(n_jobs=8)]: Done  45 tasks      | elapsed: 19.4min\n",
      "[Parallel(n_jobs=8)]: Done  46 tasks      | elapsed: 19.5min\n",
      "[Parallel(n_jobs=8)]: Done  47 tasks      | elapsed: 19.8min\n",
      "[Parallel(n_jobs=8)]: Done  48 tasks      | elapsed: 20.0min\n",
      "[Parallel(n_jobs=8)]: Done  49 tasks      | elapsed: 20.7min\n",
      "[Parallel(n_jobs=8)]: Done  50 tasks      | elapsed: 20.8min\n",
      "[Parallel(n_jobs=8)]: Done  51 tasks      | elapsed: 21.8min\n",
      "[Parallel(n_jobs=8)]: Done  52 tasks      | elapsed: 22.3min\n",
      "[Parallel(n_jobs=8)]: Done  53 tasks      | elapsed: 22.7min\n",
      "[Parallel(n_jobs=8)]: Done  54 tasks      | elapsed: 22.8min\n",
      "[Parallel(n_jobs=8)]: Done  55 tasks      | elapsed: 22.9min\n",
      "[Parallel(n_jobs=8)]: Done  56 tasks      | elapsed: 23.5min\n",
      "[Parallel(n_jobs=8)]: Done  57 tasks      | elapsed: 23.6min\n",
      "[Parallel(n_jobs=8)]: Done  58 tasks      | elapsed: 23.6min\n",
      "[Parallel(n_jobs=8)]: Done  59 tasks      | elapsed: 24.6min\n",
      "[Parallel(n_jobs=8)]: Done  60 tasks      | elapsed: 25.1min\n",
      "[Parallel(n_jobs=8)]: Done  61 tasks      | elapsed: 25.7min\n",
      "[Parallel(n_jobs=8)]: Done  62 tasks      | elapsed: 25.9min\n",
      "[Parallel(n_jobs=8)]: Done  63 tasks      | elapsed: 26.0min\n",
      "[Parallel(n_jobs=8)]: Done  64 tasks      | elapsed: 26.5min\n",
      "[Parallel(n_jobs=8)]: Done  65 tasks      | elapsed: 26.6min\n",
      "[Parallel(n_jobs=8)]: Done  66 tasks      | elapsed: 26.9min\n",
      "[Parallel(n_jobs=8)]: Done  67 tasks      | elapsed: 28.1min\n",
      "[Parallel(n_jobs=8)]: Done  68 tasks      | elapsed: 28.6min\n",
      "[Parallel(n_jobs=8)]: Done  69 tasks      | elapsed: 28.8min\n",
      "[Parallel(n_jobs=8)]: Done  70 tasks      | elapsed: 29.1min\n",
      "[Parallel(n_jobs=8)]: Done  71 tasks      | elapsed: 29.3min\n",
      "[Parallel(n_jobs=8)]: Done  72 tasks      | elapsed: 29.4min\n",
      "[Parallel(n_jobs=8)]: Done  73 tasks      | elapsed: 29.6min\n",
      "[Parallel(n_jobs=8)]: Done  74 tasks      | elapsed: 30.0min\n",
      "[Parallel(n_jobs=8)]: Done  75 tasks      | elapsed: 31.6min\n",
      "[Parallel(n_jobs=8)]: Done  76 tasks      | elapsed: 32.5min\n",
      "[Parallel(n_jobs=8)]: Done  77 tasks      | elapsed: 32.6min\n",
      "[Parallel(n_jobs=8)]: Done  78 tasks      | elapsed: 33.0min\n",
      "[Parallel(n_jobs=8)]: Done  79 tasks      | elapsed: 33.1min\n",
      "[Parallel(n_jobs=8)]: Done  80 tasks      | elapsed: 33.2min\n",
      "[Parallel(n_jobs=8)]: Done  81 tasks      | elapsed: 33.7min\n",
      "[Parallel(n_jobs=8)]: Done  82 tasks      | elapsed: 34.1min\n",
      "[Parallel(n_jobs=8)]: Done  83 tasks      | elapsed: 35.5min\n",
      "[Parallel(n_jobs=8)]: Done  84 tasks      | elapsed: 36.4min\n",
      "[Parallel(n_jobs=8)]: Done  85 tasks      | elapsed: 36.5min\n",
      "[Parallel(n_jobs=8)]: Done  86 tasks      | elapsed: 36.6min\n",
      "[Parallel(n_jobs=8)]: Done  87 tasks      | elapsed: 36.7min\n",
      "[Parallel(n_jobs=8)]: Done  88 tasks      | elapsed: 37.0min\n",
      "[Parallel(n_jobs=8)]: Done  89 tasks      | elapsed: 37.3min\n",
      "[Parallel(n_jobs=8)]: Done  90 tasks      | elapsed: 37.7min\n",
      "[Parallel(n_jobs=8)]: Done  91 tasks      | elapsed: 39.4min\n",
      "[Parallel(n_jobs=8)]: Done  92 tasks      | elapsed: 40.2min\n",
      "[Parallel(n_jobs=8)]: Done  93 tasks      | elapsed: 40.2min\n",
      "[Parallel(n_jobs=8)]: Done  94 tasks      | elapsed: 40.3min\n",
      "[Parallel(n_jobs=8)]: Done  95 tasks      | elapsed: 40.4min\n",
      "[Parallel(n_jobs=8)]: Done  96 tasks      | elapsed: 41.1min\n",
      "[Parallel(n_jobs=8)]: Done  97 tasks      | elapsed: 41.6min\n",
      "[Parallel(n_jobs=8)]: Done  98 tasks      | elapsed: 42.0min\n",
      "[Parallel(n_jobs=8)]: Done  99 tasks      | elapsed: 43.6min\n",
      "[Parallel(n_jobs=8)]: Done 100 tasks      | elapsed: 43.7min\n",
      "[Parallel(n_jobs=8)]: Done 101 tasks      | elapsed: 43.8min\n",
      "[Parallel(n_jobs=8)]: Done 102 tasks      | elapsed: 43.9min\n",
      "[Parallel(n_jobs=8)]: Done 103 tasks      | elapsed: 44.5min\n",
      "[Parallel(n_jobs=8)]: Done 104 tasks      | elapsed: 44.6min\n",
      "[Parallel(n_jobs=8)]: Done 105 tasks      | elapsed: 45.1min\n",
      "[Parallel(n_jobs=8)]: Done 106 tasks      | elapsed: 45.7min\n",
      "[Parallel(n_jobs=8)]: Done 107 tasks      | elapsed: 47.3min\n",
      "[Parallel(n_jobs=8)]: Done 108 tasks      | elapsed: 47.4min\n",
      "[Parallel(n_jobs=8)]: Done 109 tasks      | elapsed: 47.5min\n",
      "[Parallel(n_jobs=8)]: Done 110 tasks      | elapsed: 47.6min\n",
      "[Parallel(n_jobs=8)]: Done 111 tasks      | elapsed: 48.5min\n",
      "[Parallel(n_jobs=8)]: Done 112 tasks      | elapsed: 48.7min\n",
      "[Parallel(n_jobs=8)]: Done 113 tasks      | elapsed: 49.0min\n",
      "[Parallel(n_jobs=8)]: Done 114 tasks      | elapsed: 49.6min\n",
      "[Parallel(n_jobs=8)]: Done 115 tasks      | elapsed: 50.8min\n",
      "[Parallel(n_jobs=8)]: Done 116 tasks      | elapsed: 50.9min\n",
      "[Parallel(n_jobs=8)]: Done 117 tasks      | elapsed: 51.0min\n",
      "[Parallel(n_jobs=8)]: Done 118 tasks      | elapsed: 51.5min\n",
      "[Parallel(n_jobs=8)]: Done 119 tasks      | elapsed: 51.9min\n",
      "[Parallel(n_jobs=8)]: Done 120 tasks      | elapsed: 52.1min\n",
      "[Parallel(n_jobs=8)]: Done 121 tasks      | elapsed: 52.5min\n",
      "[Parallel(n_jobs=8)]: Done 122 tasks      | elapsed: 52.9min\n",
      "[Parallel(n_jobs=8)]: Done 123 tasks      | elapsed: 54.0min\n",
      "[Parallel(n_jobs=8)]: Done 124 tasks      | elapsed: 54.0min\n",
      "[Parallel(n_jobs=8)]: Done 125 tasks      | elapsed: 54.1min\n",
      "[Parallel(n_jobs=8)]: Done 126 tasks      | elapsed: 54.8min\n",
      "[Parallel(n_jobs=8)]: Done 127 tasks      | elapsed: 55.4min\n",
      "[Parallel(n_jobs=8)]: Done 128 tasks      | elapsed: 55.7min\n",
      "[Parallel(n_jobs=8)]: Done 129 tasks      | elapsed: 55.8min\n",
      "[Parallel(n_jobs=8)]: Done 130 tasks      | elapsed: 56.3min\n",
      "[Parallel(n_jobs=8)]: Done 131 tasks      | elapsed: 56.8min\n",
      "[Parallel(n_jobs=8)]: Done 132 tasks      | elapsed: 56.9min\n",
      "[Parallel(n_jobs=8)]: Done 133 tasks      | elapsed: 57.0min\n",
      "[Parallel(n_jobs=8)]: Done 134 tasks      | elapsed: 57.7min\n",
      "[Parallel(n_jobs=8)]: Done 135 tasks      | elapsed: 58.5min\n",
      "[Parallel(n_jobs=8)]: Done 136 tasks      | elapsed: 58.9min\n",
      "[Parallel(n_jobs=8)]: Done 137 tasks      | elapsed: 59.0min\n",
      "[Parallel(n_jobs=8)]: Done 138 tasks      | elapsed: 59.4min\n",
      "[Parallel(n_jobs=8)]: Done 139 tasks      | elapsed: 59.9min\n",
      "[Parallel(n_jobs=8)]: Done 140 tasks      | elapsed: 60.0min\n",
      "[Parallel(n_jobs=8)]: Done 141 tasks      | elapsed: 60.4min\n",
      "[Parallel(n_jobs=8)]: Done 142 tasks      | elapsed: 61.1min\n",
      "[Parallel(n_jobs=8)]: Done 143 tasks      | elapsed: 61.7min\n",
      "[Parallel(n_jobs=8)]: Done 144 tasks      | elapsed: 62.1min\n",
      "[Parallel(n_jobs=8)]: Done 145 tasks      | elapsed: 62.2min\n",
      "[Parallel(n_jobs=8)]: Done 146 tasks      | elapsed: 62.5min\n",
      "[Parallel(n_jobs=8)]: Done 147 tasks      | elapsed: 62.7min\n",
      "[Parallel(n_jobs=8)]: Done 148 tasks      | elapsed: 62.8min\n",
      "[Parallel(n_jobs=8)]: Done 149 tasks      | elapsed: 63.2min\n",
      "[Parallel(n_jobs=8)]: Done 150 tasks      | elapsed: 63.9min\n",
      "[Parallel(n_jobs=8)]: Done 151 tasks      | elapsed: 64.9min\n",
      "[Parallel(n_jobs=8)]: Done 152 tasks      | elapsed: 65.3min\n",
      "[Parallel(n_jobs=8)]: Done 153 tasks      | elapsed: 65.3min\n",
      "[Parallel(n_jobs=8)]: Done 154 tasks      | elapsed: 65.6min\n",
      "[Parallel(n_jobs=8)]: Done 155 tasks      | elapsed: 65.8min\n",
      "[Parallel(n_jobs=8)]: Done 156 tasks      | elapsed: 66.3min\n",
      "[Parallel(n_jobs=8)]: Done 157 tasks      | elapsed: 66.8min\n",
      "[Parallel(n_jobs=8)]: Done 158 tasks      | elapsed: 67.5min\n",
      "[Parallel(n_jobs=8)]: Done 159 tasks      | elapsed: 68.0min\n",
      "[Parallel(n_jobs=8)]: Done 160 tasks      | elapsed: 68.3min\n",
      "[Parallel(n_jobs=8)]: Done 161 tasks      | elapsed: 68.4min\n",
      "[Parallel(n_jobs=8)]: Done 162 tasks      | elapsed: 68.5min\n",
      "[Parallel(n_jobs=8)]: Done 163 tasks      | elapsed: 68.7min\n",
      "[Parallel(n_jobs=8)]: Done 164 tasks      | elapsed: 69.0min\n",
      "[Parallel(n_jobs=8)]: Done 165 tasks      | elapsed: 69.6min\n",
      "[Parallel(n_jobs=8)]: Done 166 tasks      | elapsed: 70.6min\n",
      "[Parallel(n_jobs=8)]: Done 167 tasks      | elapsed: 71.2min\n",
      "[Parallel(n_jobs=8)]: Done 168 tasks      | elapsed: 71.4min\n",
      "[Parallel(n_jobs=8)]: Done 169 tasks      | elapsed: 71.5min\n",
      "[Parallel(n_jobs=8)]: Done 170 tasks      | elapsed: 71.6min\n",
      "[Parallel(n_jobs=8)]: Done 171 tasks      | elapsed: 72.3min\n",
      "[Parallel(n_jobs=8)]: Done 172 tasks      | elapsed: 72.4min\n",
      "[Parallel(n_jobs=8)]: Done 173 tasks      | elapsed: 73.0min\n",
      "[Parallel(n_jobs=8)]: Done 174 tasks      | elapsed: 73.8min\n",
      "[Parallel(n_jobs=8)]: Done 175 tasks      | elapsed: 74.2min\n",
      "[Parallel(n_jobs=8)]: Done 176 tasks      | elapsed: 74.2min\n",
      "[Parallel(n_jobs=8)]: Done 177 tasks      | elapsed: 74.4min\n",
      "[Parallel(n_jobs=8)]: Done 178 tasks      | elapsed: 74.6min\n",
      "[Parallel(n_jobs=8)]: Done 179 tasks      | elapsed: 75.1min\n",
      "[Parallel(n_jobs=8)]: Done 180 tasks      | elapsed: 75.2min\n",
      "[Parallel(n_jobs=8)]: Done 181 tasks      | elapsed: 75.9min\n",
      "[Parallel(n_jobs=8)]: Done 182 tasks      | elapsed: 76.9min\n",
      "[Parallel(n_jobs=8)]: Done 183 tasks      | elapsed: 77.2min\n",
      "[Parallel(n_jobs=8)]: Done 184 tasks      | elapsed: 77.3min\n",
      "[Parallel(n_jobs=8)]: Done 185 tasks      | elapsed: 77.4min\n",
      "[Parallel(n_jobs=8)]: Done 186 tasks      | elapsed: 78.0min\n",
      "[Parallel(n_jobs=8)]: Done 187 tasks      | elapsed: 78.8min\n",
      "[Parallel(n_jobs=8)]: Done 188 tasks      | elapsed: 78.8min\n",
      "[Parallel(n_jobs=8)]: Done 189 tasks      | elapsed: 79.2min\n",
      "[Parallel(n_jobs=8)]: Done 190 tasks      | elapsed: 80.1min\n",
      "[Parallel(n_jobs=8)]: Done 191 tasks      | elapsed: 80.1min\n",
      "[Parallel(n_jobs=8)]: Done 192 tasks      | elapsed: 80.2min\n",
      "[Parallel(n_jobs=8)]: Done 193 tasks      | elapsed: 80.4min\n",
      "[Parallel(n_jobs=8)]: Done 194 tasks      | elapsed: 80.9min\n",
      "[Parallel(n_jobs=8)]: Done 195 tasks      | elapsed: 81.8min\n",
      "[Parallel(n_jobs=8)]: Done 196 tasks      | elapsed: 82.0min\n",
      "[Parallel(n_jobs=8)]: Done 197 tasks      | elapsed: 82.4min\n",
      "[Parallel(n_jobs=8)]: Done 198 tasks      | elapsed: 83.2min\n",
      "[Parallel(n_jobs=8)]: Done 199 tasks      | elapsed: 83.2min\n",
      "[Parallel(n_jobs=8)]: Done 200 tasks      | elapsed: 83.3min\n",
      "[Parallel(n_jobs=8)]: Done 201 tasks      | elapsed: 83.7min\n",
      "[Parallel(n_jobs=8)]: Done 202 tasks      | elapsed: 84.2min\n",
      "[Parallel(n_jobs=8)]: Done 203 tasks      | elapsed: 85.0min\n",
      "[Parallel(n_jobs=8)]: Done 204 tasks      | elapsed: 85.2min\n",
      "[Parallel(n_jobs=8)]: Done 205 tasks      | elapsed: 85.9min\n",
      "[Parallel(n_jobs=8)]: Done 206 tasks      | elapsed: 86.0min\n",
      "[Parallel(n_jobs=8)]: Done 207 tasks      | elapsed: 86.0min\n",
      "[Parallel(n_jobs=8)]: Done 208 tasks      | elapsed: 86.1min\n",
      "[Parallel(n_jobs=8)]: Done 209 tasks      | elapsed: 86.6min\n",
      "[Parallel(n_jobs=8)]: Done 210 tasks      | elapsed: 87.2min\n",
      "[Parallel(n_jobs=8)]: Done 211 tasks      | elapsed: 88.2min\n",
      "[Parallel(n_jobs=8)]: Done 212 tasks      | elapsed: 88.4min\n",
      "[Parallel(n_jobs=8)]: Done 213 tasks      | elapsed: 89.0min\n",
      "[Parallel(n_jobs=8)]: Done 214 tasks      | elapsed: 89.1min\n",
      "[Parallel(n_jobs=8)]: Done 215 tasks      | elapsed: 89.1min\n",
      "[Parallel(n_jobs=8)]: Done 216 tasks      | elapsed: 89.5min\n",
      "[Parallel(n_jobs=8)]: Done 217 tasks      | elapsed: 90.3min\n",
      "[Parallel(n_jobs=8)]: Done 218 tasks      | elapsed: 90.7min\n",
      "[Parallel(n_jobs=8)]: Done 219 tasks      | elapsed: 91.7min\n",
      "[Parallel(n_jobs=8)]: Done 220 tasks      | elapsed: 91.9min\n",
      "[Parallel(n_jobs=8)]: Done 221 tasks      | elapsed: 91.9min\n",
      "[Parallel(n_jobs=8)]: Done 222 tasks      | elapsed: 92.0min\n",
      "[Parallel(n_jobs=8)]: Done 223 tasks      | elapsed: 92.0min\n",
      "[Parallel(n_jobs=8)]: Done 224 tasks      | elapsed: 92.5min\n",
      "[Parallel(n_jobs=8)]: Done 225 tasks      | elapsed: 93.4min\n",
      "[Parallel(n_jobs=8)]: Done 226 out of 240 | elapsed: 94.1min remaining:  5.8min\n",
      "[Parallel(n_jobs=8)]: Done 227 out of 240 | elapsed: 95.1min remaining:  5.4min\n",
      "[Parallel(n_jobs=8)]: Done 228 out of 240 | elapsed: 95.2min remaining:  5.0min\n",
      "[Parallel(n_jobs=8)]: Done 229 out of 240 | elapsed: 95.3min remaining:  4.6min\n",
      "[Parallel(n_jobs=8)]: Done 230 out of 240 | elapsed: 95.4min remaining:  4.1min\n",
      "[Parallel(n_jobs=8)]: Done 231 out of 240 | elapsed: 96.0min remaining:  3.7min\n",
      "[Parallel(n_jobs=8)]: Done 232 out of 240 | elapsed: 96.1min remaining:  3.3min\n",
      "[Parallel(n_jobs=8)]: Done 233 out of 240 | elapsed: 96.8min remaining:  2.9min\n",
      "[Parallel(n_jobs=8)]: Done 234 out of 240 | elapsed: 97.4min remaining:  2.5min\n",
      "[Parallel(n_jobs=8)]: Done 235 out of 240 | elapsed: 98.0min remaining:  2.1min\n",
      "[Parallel(n_jobs=8)]: Done 236 out of 240 | elapsed: 98.0min remaining:  1.7min\n",
      "[Parallel(n_jobs=8)]: Done 237 out of 240 | elapsed: 98.0min remaining:  1.2min\n",
      "[Parallel(n_jobs=8)]: Done 238 out of 240 | elapsed: 98.2min remaining:   49.5s\n",
      "[Parallel(n_jobs=8)]: Done 240 out of 240 | elapsed: 98.3min remaining:    0.0s\n",
      "[Parallel(n_jobs=8)]: Done 240 out of 240 | elapsed: 98.3min finished\n"
     ]
    },
    {
     "data": {
      "text/plain": "GridSearchCV(cv=None, error_score=nan,\n             estimator=SVC(C=1.0, break_ties=False, cache_size=200,\n                           class_weight=None, coef0=0.0,\n                           decision_function_shape='ovr', degree=3,\n                           gamma='scale', kernel='rbf', max_iter=-1,\n                           probability=False, random_state=None, shrinking=True,\n                           tol=0.001, verbose=False),\n             iid='deprecated', n_jobs=8,\n             param_grid={'C': [0.1, 1, 10, 100], 'gamma': [1, 0.1, 0.01, 0.001],\n                         'kernel': ['rbf', 'poly', 'sigmoid']},\n             pre_dispatch='2*n_jobs', refit=True, return_train_score=False,\n             scoring=None, verbose=1000)"
     },
     "execution_count": 18,
     "metadata": {},
     "output_type": "execute_result"
    }
   ],
   "source": [
    "from sklearn.model_selection import GridSearchCV\n",
    "param_grid = {'C': [0.1,1, 10, 100], 'gamma': [1,0.1,0.01,0.001],'kernel': ['rbf', 'poly', 'sigmoid']}\n",
    "grid = GridSearchCV(svm.SVC(),param_grid,refit=True,verbose=1000, n_jobs=8)\n",
    "grid.fit(inputs_train,targets_train)"
   ],
   "metadata": {
    "collapsed": false,
    "pycharm": {
     "name": "#%%\n"
    }
   }
  },
  {
   "cell_type": "code",
   "execution_count": 19,
   "outputs": [
    {
     "name": "stdout",
     "output_type": "stream",
     "text": [
      "Grid Accuracy: 0.6327777777777778\n"
     ]
    }
   ],
   "source": [
    "grid_predictions = grid.predict(inputs_test)\n",
    "print(\"Grid Accuracy:\",metrics.accuracy_score(targets_test, grid_predictions))"
   ],
   "metadata": {
    "collapsed": false,
    "pycharm": {
     "name": "#%%\n"
    }
   }
  },
  {
   "cell_type": "code",
   "execution_count": 23,
   "outputs": [
    {
     "name": "stderr",
     "output_type": "stream",
     "text": [
      "100%|██████████| 3000/3000 [00:47<00:00, 63.47it/s]\n"
     ]
    }
   ],
   "source": [
    "test_path = \"/Users/soltan/Programs/kaggle/raw_data/test/test/*\"\n",
    "from tqdm import tqdm\n",
    "test_dir = np.array(glob(test_path))\n",
    "\n",
    "fout = open(\"../submission.txt\", \"w\")\n",
    "\n",
    "for file in tqdm(test_dir):\n",
    "    name = file.split(\"/\")[-1]\n",
    "    ft = extract_features(file)\n",
    "    pred = grid.predict([ft])[0]\n",
    "    fout.write(\"{},{}\\n\".format(name, pred))\n",
    "\n",
    "fout.close()"
   ],
   "metadata": {
    "collapsed": false,
    "pycharm": {
     "name": "#%%\n"
    }
   }
  }
 ],
 "metadata": {
  "kernelspec": {
   "display_name": "Python 3",
   "language": "python",
   "name": "python3"
  },
  "language_info": {
   "codemirror_mode": {
    "name": "ipython",
    "version": 2
   },
   "file_extension": ".py",
   "mimetype": "text/x-python",
   "name": "python",
   "nbconvert_exporter": "python",
   "pygments_lexer": "ipython2",
   "version": "2.7.6"
  }
 },
 "nbformat": 4,
 "nbformat_minor": 0
}
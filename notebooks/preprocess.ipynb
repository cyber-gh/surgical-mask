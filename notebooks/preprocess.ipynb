{
 "cells": [
  {
   "cell_type": "code",
   "execution_count": 1,
   "metadata": {
    "collapsed": true
   },
   "outputs": [
    {
     "name": "stderr",
     "output_type": "stream",
     "text": [
      "100%|██████████| 9000/9000 [00:01<00:00, 6253.18it/s]\n"
     ]
    }
   ],
   "source": [
    "import shutil\n",
    "from tqdm import tqdm\n",
    "data_path = \"/Users/soltan/Programs/kaggle/raw_data\"\n",
    "with open(\"../raw_data/train.txt\", \"r\") as fin:\n",
    "    for line in tqdm(fin.readlines()):\n",
    "        line = line[:-1]\n",
    "        name, label = line.split(\",\")[0], line.split(\",\")[1]\n",
    "        shutil.move(\"{}/train/train/{}.wav\".format(data_path, name),\"{}/train/train/{}-{}.wav\".format(data_path, name, label))\n",
    "\n",
    "\n"
   ]
  }
 ],
 "metadata": {
  "kernelspec": {
   "display_name": "Python 3",
   "language": "python",
   "name": "python3"
  },
  "language_info": {
   "codemirror_mode": {
    "name": "ipython",
    "version": 2
   },
   "file_extension": ".py",
   "mimetype": "text/x-python",
   "name": "python",
   "nbconvert_exporter": "python",
   "pygments_lexer": "ipython2",
   "version": "2.7.6"
  }
 },
 "nbformat": 4,
 "nbformat_minor": 0
}
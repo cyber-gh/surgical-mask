{
 "cells": [
  {
   "cell_type": "code",
   "execution_count": 1,
   "outputs": [],
   "source": [
    "from glob import glob\n",
    "import numpy as np\n",
    "data_path = \"/Users/soltan/Programs/kaggle/raw_data/train/train/*\"\n",
    "\n",
    "import librosa\n",
    "def extract_features(file_name):\n",
    "    n_fft = 2048\n",
    "    hop_length = 512\n",
    "    signal, sr = librosa.load(file_name, sr=None)\n",
    "    mfcc = librosa.feature.mfcc(signal, n_fft=n_fft, hop_length=hop_length, n_mfcc=13).flatten()\n",
    "    return mfcc"
   ],
   "metadata": {
    "collapsed": false,
    "pycharm": {
     "name": "#%%\n"
    }
   }
  },
  {
   "cell_type": "code",
   "execution_count": 2,
   "outputs": [
    {
     "name": "stderr",
     "output_type": "stream",
     "text": [
      "100%|██████████| 9000/9000 [00:59<00:00, 151.51it/s]\n"
     ]
    }
   ],
   "source": [
    "from tqdm import tqdm\n",
    "data_dir = np.array(glob(data_path))\n",
    "features, labels = [], []\n",
    "for file in tqdm(data_dir):\n",
    "    file_name = file.split(\"/\")[-1]\n",
    "    file_name = file.split(\".\")[0]\n",
    "    name, label = file_name.split(\"-\")[0], file_name.split(\"-\")[1]\n",
    "    features.append(extract_features(file))\n",
    "    labels.append(label)\n"
   ],
   "metadata": {
    "collapsed": false,
    "pycharm": {
     "name": "#%%\n"
    }
   }
  },
  {
   "cell_type": "code",
   "execution_count": 2,
   "outputs": [],
   "source": [],
   "metadata": {
    "collapsed": false,
    "pycharm": {
     "name": "#%%\n"
    }
   }
  },
  {
   "cell_type": "code",
   "execution_count": 3,
   "outputs": [],
   "source": [
    "from sklearn.model_selection import train_test_split\n",
    "inputs_train, inputs_test, targets_train, targets_test = train_test_split(features, labels, test_size=0.2)\n"
   ],
   "metadata": {
    "collapsed": false,
    "pycharm": {
     "name": "#%%\n"
    }
   }
  },
  {
   "cell_type": "code",
   "execution_count": 17,
   "outputs": [
    {
     "data": {
      "text/plain": "KNeighborsClassifier(algorithm='auto', leaf_size=30, metric='minkowski',\n                     metric_params=None, n_jobs=None, n_neighbors=17, p=2,\n                     weights='uniform')"
     },
     "execution_count": 17,
     "metadata": {},
     "output_type": "execute_result"
    }
   ],
   "source": [
    "from sklearn.neighbors import KNeighborsClassifier\n",
    "\n",
    "model = KNeighborsClassifier(n_neighbors=17)\n",
    "model.fit(inputs_train, targets_train)"
   ],
   "metadata": {
    "collapsed": false,
    "pycharm": {
     "name": "#%%\n"
    }
   }
  },
  {
   "cell_type": "code",
   "execution_count": 21,
   "outputs": [
    {
     "name": "stdout",
     "output_type": "stream",
     "text": [
      "Fitting 5 folds for each of 24 candidates, totalling 120 fits\n",
      "[Parallel(n_jobs=10)]: Using backend LokyBackend with 10 concurrent workers.\n",
      "[Parallel(n_jobs=10)]: Done   1 tasks      | elapsed:   12.1s\n",
      "[Parallel(n_jobs=10)]: Done   2 tasks      | elapsed:   13.2s\n",
      "[Parallel(n_jobs=10)]: Done   3 tasks      | elapsed:   14.1s\n",
      "[Parallel(n_jobs=10)]: Done   4 tasks      | elapsed:   15.6s\n",
      "[Parallel(n_jobs=10)]: Done   5 tasks      | elapsed:   16.8s\n",
      "[Parallel(n_jobs=10)]: Done   6 tasks      | elapsed:   18.0s\n",
      "[Parallel(n_jobs=10)]: Done   7 tasks      | elapsed:   19.4s\n",
      "[Parallel(n_jobs=10)]: Done   8 tasks      | elapsed:   20.5s\n",
      "[Parallel(n_jobs=10)]: Done   9 tasks      | elapsed:   21.9s\n",
      "[Parallel(n_jobs=10)]: Done  10 tasks      | elapsed:   23.4s\n",
      "[Parallel(n_jobs=10)]: Done  11 tasks      | elapsed:   29.4s\n",
      "[Parallel(n_jobs=10)]: Done  12 tasks      | elapsed:   30.7s\n",
      "[Parallel(n_jobs=10)]: Done  13 tasks      | elapsed:   32.2s\n",
      "[Parallel(n_jobs=10)]: Done  14 tasks      | elapsed:   34.3s\n",
      "[Parallel(n_jobs=10)]: Done  15 tasks      | elapsed:   35.6s\n",
      "[Parallel(n_jobs=10)]: Done  16 tasks      | elapsed:   36.8s\n",
      "[Parallel(n_jobs=10)]: Done  17 tasks      | elapsed:   38.3s\n",
      "[Parallel(n_jobs=10)]: Done  18 tasks      | elapsed:   39.3s\n",
      "[Parallel(n_jobs=10)]: Done  19 tasks      | elapsed:   40.9s\n",
      "[Parallel(n_jobs=10)]: Done  20 tasks      | elapsed:   42.2s\n",
      "[Parallel(n_jobs=10)]: Done  21 tasks      | elapsed:   47.4s\n",
      "[Parallel(n_jobs=10)]: Done  22 tasks      | elapsed:   48.9s\n",
      "[Parallel(n_jobs=10)]: Done  23 tasks      | elapsed:   49.7s\n",
      "[Parallel(n_jobs=10)]: Done  24 tasks      | elapsed:   51.2s\n",
      "[Parallel(n_jobs=10)]: Done  25 tasks      | elapsed:   52.5s\n",
      "[Parallel(n_jobs=10)]: Done  26 tasks      | elapsed:   53.5s\n",
      "[Parallel(n_jobs=10)]: Done  27 tasks      | elapsed:   54.9s\n",
      "[Parallel(n_jobs=10)]: Done  28 tasks      | elapsed:   55.8s\n",
      "[Parallel(n_jobs=10)]: Done  29 tasks      | elapsed:   57.5s\n",
      "[Parallel(n_jobs=10)]: Done  30 tasks      | elapsed:   58.7s\n",
      "[Parallel(n_jobs=10)]: Done  31 tasks      | elapsed:  1.1min\n",
      "[Parallel(n_jobs=10)]: Done  32 tasks      | elapsed:  1.1min\n",
      "[Parallel(n_jobs=10)]: Done  33 tasks      | elapsed:  1.1min\n",
      "[Parallel(n_jobs=10)]: Done  34 tasks      | elapsed:  1.1min\n",
      "[Parallel(n_jobs=10)]: Done  35 tasks      | elapsed:  1.2min\n",
      "[Parallel(n_jobs=10)]: Done  36 tasks      | elapsed:  1.2min\n",
      "[Parallel(n_jobs=10)]: Done  37 tasks      | elapsed:  1.2min\n",
      "[Parallel(n_jobs=10)]: Done  38 tasks      | elapsed:  1.2min\n",
      "[Parallel(n_jobs=10)]: Done  39 tasks      | elapsed:  1.2min\n",
      "[Parallel(n_jobs=10)]: Done  40 tasks      | elapsed:  1.3min\n",
      "[Parallel(n_jobs=10)]: Done  41 tasks      | elapsed:  1.4min\n",
      "[Parallel(n_jobs=10)]: Done  42 tasks      | elapsed:  1.4min\n",
      "[Parallel(n_jobs=10)]: Done  43 tasks      | elapsed:  1.4min\n",
      "[Parallel(n_jobs=10)]: Done  44 tasks      | elapsed:  1.5min\n",
      "[Parallel(n_jobs=10)]: Done  45 tasks      | elapsed:  1.5min\n",
      "[Parallel(n_jobs=10)]: Done  46 tasks      | elapsed:  1.5min\n",
      "[Parallel(n_jobs=10)]: Done  47 tasks      | elapsed:  1.5min\n",
      "[Parallel(n_jobs=10)]: Done  48 tasks      | elapsed:  1.6min\n",
      "[Parallel(n_jobs=10)]: Done  49 tasks      | elapsed:  1.6min\n",
      "[Parallel(n_jobs=10)]: Done  50 tasks      | elapsed:  1.6min\n",
      "[Parallel(n_jobs=10)]: Done  51 tasks      | elapsed:  1.8min\n",
      "[Parallel(n_jobs=10)]: Done  52 tasks      | elapsed:  1.8min\n",
      "[Parallel(n_jobs=10)]: Done  53 tasks      | elapsed:  1.8min\n",
      "[Parallel(n_jobs=10)]: Done  54 tasks      | elapsed:  1.9min\n",
      "[Parallel(n_jobs=10)]: Done  55 tasks      | elapsed:  1.9min\n",
      "[Parallel(n_jobs=10)]: Done  56 tasks      | elapsed:  1.9min\n",
      "[Parallel(n_jobs=10)]: Done  57 tasks      | elapsed:  1.9min\n",
      "[Parallel(n_jobs=10)]: Done  58 tasks      | elapsed:  1.9min\n",
      "[Parallel(n_jobs=10)]: Done  59 tasks      | elapsed:  2.0min\n",
      "[Parallel(n_jobs=10)]: Done  60 tasks      | elapsed:  2.0min\n",
      "[Parallel(n_jobs=10)]: Done  61 tasks      | elapsed:  2.2min\n",
      "[Parallel(n_jobs=10)]: Done  62 tasks      | elapsed:  2.2min\n",
      "[Parallel(n_jobs=10)]: Done  63 tasks      | elapsed:  2.2min\n",
      "[Parallel(n_jobs=10)]: Done  64 tasks      | elapsed:  2.2min\n",
      "[Parallel(n_jobs=10)]: Done  65 tasks      | elapsed:  2.3min\n",
      "[Parallel(n_jobs=10)]: Done  66 tasks      | elapsed:  2.3min\n",
      "[Parallel(n_jobs=10)]: Done  67 tasks      | elapsed:  2.3min\n",
      "[Parallel(n_jobs=10)]: Done  68 tasks      | elapsed:  2.3min\n",
      "[Parallel(n_jobs=10)]: Done  69 tasks      | elapsed:  2.3min\n",
      "[Parallel(n_jobs=10)]: Done  70 tasks      | elapsed:  2.4min\n",
      "[Parallel(n_jobs=10)]: Done  71 tasks      | elapsed:  2.4min\n",
      "[Parallel(n_jobs=10)]: Done  72 tasks      | elapsed:  2.5min\n",
      "[Parallel(n_jobs=10)]: Done  73 tasks      | elapsed:  2.5min\n",
      "[Parallel(n_jobs=10)]: Done  74 tasks      | elapsed:  2.5min\n",
      "[Parallel(n_jobs=10)]: Done  75 tasks      | elapsed:  2.5min\n",
      "[Parallel(n_jobs=10)]: Done  76 tasks      | elapsed:  2.6min\n",
      "[Parallel(n_jobs=10)]: Done  77 tasks      | elapsed:  2.6min\n",
      "[Parallel(n_jobs=10)]: Done  78 tasks      | elapsed:  2.6min\n",
      "[Parallel(n_jobs=10)]: Done  79 tasks      | elapsed:  2.6min\n",
      "[Parallel(n_jobs=10)]: Done  80 tasks      | elapsed:  2.6min\n",
      "[Parallel(n_jobs=10)]: Done  81 tasks      | elapsed:  2.8min\n",
      "[Parallel(n_jobs=10)]: Done  82 tasks      | elapsed:  2.8min\n",
      "[Parallel(n_jobs=10)]: Done  83 tasks      | elapsed:  2.8min\n",
      "[Parallel(n_jobs=10)]: Done  84 tasks      | elapsed:  2.8min\n",
      "[Parallel(n_jobs=10)]: Done  85 tasks      | elapsed:  2.8min\n",
      "[Parallel(n_jobs=10)]: Done  86 tasks      | elapsed:  2.9min\n",
      "[Parallel(n_jobs=10)]: Done  87 tasks      | elapsed:  2.9min\n",
      "[Parallel(n_jobs=10)]: Done  88 tasks      | elapsed:  2.9min\n",
      "[Parallel(n_jobs=10)]: Done  89 tasks      | elapsed:  2.9min\n",
      "[Parallel(n_jobs=10)]: Done  90 tasks      | elapsed:  2.9min\n",
      "[Parallel(n_jobs=10)]: Done  91 tasks      | elapsed:  3.0min\n",
      "[Parallel(n_jobs=10)]: Done  92 tasks      | elapsed:  3.1min\n",
      "[Parallel(n_jobs=10)]: Done  93 tasks      | elapsed:  3.1min\n",
      "[Parallel(n_jobs=10)]: Done  94 tasks      | elapsed:  3.1min\n",
      "[Parallel(n_jobs=10)]: Done  95 tasks      | elapsed:  3.2min\n",
      "[Parallel(n_jobs=10)]: Done  96 tasks      | elapsed:  3.2min\n",
      "[Parallel(n_jobs=10)]: Done  97 tasks      | elapsed:  3.2min\n",
      "[Parallel(n_jobs=10)]: Done  98 tasks      | elapsed:  3.2min\n",
      "[Parallel(n_jobs=10)]: Done  99 tasks      | elapsed:  3.3min\n",
      "[Parallel(n_jobs=10)]: Done 100 tasks      | elapsed:  3.3min\n",
      "[Parallel(n_jobs=10)]: Done 101 tasks      | elapsed:  3.4min\n",
      "[Parallel(n_jobs=10)]: Done 102 out of 120 | elapsed:  3.4min remaining:   36.3s\n",
      "[Parallel(n_jobs=10)]: Done 103 out of 120 | elapsed:  3.5min remaining:   34.2s\n",
      "[Parallel(n_jobs=10)]: Done 104 out of 120 | elapsed:  3.5min remaining:   32.2s\n",
      "[Parallel(n_jobs=10)]: Done 105 out of 120 | elapsed:  3.5min remaining:   30.1s\n",
      "[Parallel(n_jobs=10)]: Done 106 out of 120 | elapsed:  3.5min remaining:   28.0s\n",
      "[Parallel(n_jobs=10)]: Done 107 out of 120 | elapsed:  3.6min remaining:   26.0s\n",
      "[Parallel(n_jobs=10)]: Done 108 out of 120 | elapsed:  3.6min remaining:   24.0s\n",
      "[Parallel(n_jobs=10)]: Done 109 out of 120 | elapsed:  3.6min remaining:   21.9s\n",
      "[Parallel(n_jobs=10)]: Done 110 out of 120 | elapsed:  3.6min remaining:   19.9s\n",
      "[Parallel(n_jobs=10)]: Done 111 out of 120 | elapsed:  3.7min remaining:   18.2s\n",
      "[Parallel(n_jobs=10)]: Done 112 out of 120 | elapsed:  3.8min remaining:   16.2s\n",
      "[Parallel(n_jobs=10)]: Done 113 out of 120 | elapsed:  3.8min remaining:   14.1s\n",
      "[Parallel(n_jobs=10)]: Done 114 out of 120 | elapsed:  3.8min remaining:   12.1s\n",
      "[Parallel(n_jobs=10)]: Done 115 out of 120 | elapsed:  3.8min remaining:   10.0s\n",
      "[Parallel(n_jobs=10)]: Done 116 out of 120 | elapsed:  3.9min remaining:    8.0s\n",
      "[Parallel(n_jobs=10)]: Done 117 out of 120 | elapsed:  3.9min remaining:    6.0s\n",
      "[Parallel(n_jobs=10)]: Done 118 out of 120 | elapsed:  3.9min remaining:    4.0s\n",
      "[Parallel(n_jobs=10)]: Done 120 out of 120 | elapsed:  3.9min remaining:    0.0s\n",
      "[Parallel(n_jobs=10)]: Done 120 out of 120 | elapsed:  3.9min finished\n"
     ]
    },
    {
     "data": {
      "text/plain": "GridSearchCV(cv=None, error_score=nan,\n             estimator=KNeighborsClassifier(algorithm='auto', leaf_size=30,\n                                            metric='minkowski',\n                                            metric_params=None, n_jobs=None,\n                                            n_neighbors=5, p=2,\n                                            weights='uniform'),\n             iid='deprecated', n_jobs=10,\n             param_grid={'metric': ['euclidean', 'manhattan'],\n                         'n_neighbors': [3, 5, 7, 9, 11, 15],\n                         'weights': ['uniform', 'distance']},\n             pre_dispatch='2*n_jobs', refit=True, return_train_score=False,\n             scoring=None, verbose=1000)"
     },
     "execution_count": 21,
     "metadata": {},
     "output_type": "execute_result"
    }
   ],
   "source": [
    "from sklearn.model_selection import GridSearchCV\n",
    "\n",
    "grid_params = {\n",
    "    'n_neighbors': [3, 5, 7, 9, 11, 15],\n",
    "    'weights': ['uniform', 'distance'],\n",
    "    'metric': ['euclidean', 'manhattan']\n",
    "}\n",
    "\n",
    "model = GridSearchCV(KNeighborsClassifier(), grid_params, n_jobs=10, verbose=1000)\n",
    "model.fit(inputs_train, targets_train)"
   ],
   "metadata": {
    "collapsed": false,
    "pycharm": {
     "name": "#%%\n"
    }
   }
  },
  {
   "cell_type": "code",
   "execution_count": 22,
   "outputs": [
    {
     "name": "stdout",
     "output_type": "stream",
     "text": [
      "Accuracy: 0.5611111111111111\n"
     ]
    }
   ],
   "source": [
    "from sklearn import metrics\n",
    "predictions = model.predict(inputs_test)\n",
    "print(\"Accuracy:\",metrics.accuracy_score(targets_test, predictions))\n"
   ],
   "metadata": {
    "collapsed": false,
    "pycharm": {
     "name": "#%%\n"
    }
   }
  }
 ],
 "metadata": {
  "kernelspec": {
   "display_name": "Python 3",
   "language": "python",
   "name": "python3"
  },
  "language_info": {
   "codemirror_mode": {
    "name": "ipython",
    "version": 2
   },
   "file_extension": ".py",
   "mimetype": "text/x-python",
   "name": "python",
   "nbconvert_exporter": "python",
   "pygments_lexer": "ipython2",
   "version": "2.7.6"
  }
 },
 "nbformat": 4,
 "nbformat_minor": 0
}